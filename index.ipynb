{
 "cells": [
  {
   "cell_type": "markdown",
   "metadata": {},
   "source": [
    "# Regression with Linear Algebra - Lab\n",
    "\n",
    "## Introduction\n",
    "\n",
    "In this lab, we shall apply regression analysis using simple matrix manipulations to fit a model to given data, and then predict new values for previously unseen data. We shall follow the approach highlighted in previous lesson where we used numpy to build the appropriate matrices and vectors and solve for the $\\beta$ (unknown variables) vector. The beta vector will be used with test data to make new predictions. We shall also evaluate how good our model fit was. \n",
    "\n",
    "In order to make this experiment interesting. We shall use NumPy at every single stage of this experiment i.e. loading data, creating matrices, performing test train split, model fitting and evaluations.  \n",
    "\n",
    "## Objectives\n",
    "\n",
    "You will be able to:\n",
    "\n",
    "* Use linear algebra to apply simple regression modeling in Python and NumPy only\n",
    "* Apply train/test split using permutations in NumPy\n",
    "* Use matrix algebra with inverses and dot products to calculate the beta\n",
    "* Make predictions from the fitted model using previously unseen input features \n",
    "* Evaluate the fitted model by calculating the error between real and predicted values\n"
   ]
  },
  {
   "cell_type": "markdown",
   "metadata": {},
   "source": [
    "First let's import necessary libraries "
   ]
  },
  {
   "cell_type": "code",
   "execution_count": 1,
   "metadata": {},
   "outputs": [],
   "source": [
    "import csv # for reading csv file\n",
    "import numpy as np"
   ]
  },
  {
   "cell_type": "markdown",
   "metadata": {},
   "source": [
    "## Dataset \n",
    "\n",
    "The dataset we will use for this experiment is \"**Sales Prices in the City of Windsor, Canada**\", something very similar to the Boston Housing dataset. This dataset contains a number of input (independent) variables, including area, number of bedrooms/bathrooms, facilities(AC/garage) etc. and an output (dependent) variable, **price**. We shall formulate a linear algebra problem to find linear mappings from input to out features using the equation provided in the previous lesson. \n",
    "\n",
    "This will allow us to find a relationship between house features and house price for the given data, allowing us to find unknown prices for houses, given the input features.  \n",
    "\n",
    "A description of dataset and included features is available at [THIS LINK](https://rdrr.io/cran/Ecdat/man/Housing.html)\n",
    "\n",
    "In your repo, the dataset is available as `windsor_housing.csv` containing following variables:\n",
    "\n",
    "there are 11 input features (first 11 columns):\n",
    "\n",
    "\tlotsize\tbedrooms\tbathrms\tstories\tdriveway\trecroom\tfullbase\tgashw\tairco\tgaragepl\tprefarea\n",
    "\n",
    "and 1 output feature i.e. **price** (12th column). \n",
    "\n",
    "The focus of this lab is not really answering a preset analytical question, but to learn how we can perform a regression experiment, similar to one we performed in statsmodels, using mathematical manipulations. So we we wont be using any Pandas or statsmodels goodness here. The key objectives here are to a) understand regression with matrix algebra, and b) Mastery in NumPy scientific computation. "
   ]
  },
  {
   "cell_type": "markdown",
   "metadata": {},
   "source": [
    "## Stage 1: Prepare Data for Modeling \n",
    "\n",
    "Let's give you a head start by importing the dataset. We shall perform following steps to get the data ready for analysis:\n",
    "\n",
    "* Initialize an empty list `data` for loading data\n",
    "* Read the csv file containing complete (raw) `windsor_housing.csv`. [Use `csv.reader()` for loading data.](https://docs.python.org/3/library/csv.html). Store this in `data` one row at a time.\n",
    "\n",
    "* Drop the first row of csv file as it contains the names of variables (header) which won't be used during analysis (keeping this will cause errors as it contains text values).\n",
    "\n",
    "* Append a column of all 1s to the data (bias) as the first column\n",
    "\n",
    "* Convert `data` to a numpy array and inspect first few rows \n",
    "\n",
    "NOTE: `read.csv()` would read the csv as a text file, so we must convert the contents to float at some stage. "
   ]
  },
  {
   "cell_type": "code",
   "execution_count": 27,
   "metadata": {},
   "outputs": [
    {
     "data": {
      "text/plain": [
       "array([[1.00e+00, 5.85e+03, 3.00e+00, 1.00e+00, 2.00e+00, 1.00e+00,\n",
       "        0.00e+00, 1.00e+00, 0.00e+00, 0.00e+00, 1.00e+00, 0.00e+00,\n",
       "        4.20e+04],\n",
       "       [1.00e+00, 4.00e+03, 2.00e+00, 1.00e+00, 1.00e+00, 1.00e+00,\n",
       "        0.00e+00, 0.00e+00, 0.00e+00, 0.00e+00, 0.00e+00, 0.00e+00,\n",
       "        3.85e+04],\n",
       "       [1.00e+00, 3.06e+03, 3.00e+00, 1.00e+00, 1.00e+00, 1.00e+00,\n",
       "        0.00e+00, 0.00e+00, 0.00e+00, 0.00e+00, 0.00e+00, 0.00e+00,\n",
       "        4.95e+04],\n",
       "       [1.00e+00, 6.65e+03, 3.00e+00, 1.00e+00, 2.00e+00, 1.00e+00,\n",
       "        1.00e+00, 0.00e+00, 0.00e+00, 0.00e+00, 0.00e+00, 0.00e+00,\n",
       "        6.05e+04],\n",
       "       [1.00e+00, 6.36e+03, 2.00e+00, 1.00e+00, 1.00e+00, 1.00e+00,\n",
       "        0.00e+00, 0.00e+00, 0.00e+00, 0.00e+00, 0.00e+00, 0.00e+00,\n",
       "        6.10e+04]])"
      ]
     },
     "execution_count": 27,
     "metadata": {},
     "output_type": "execute_result"
    }
   ],
   "source": [
    "# Your Code here\n",
    "data = []\n",
    "\n",
    "#Read the data from the csv file\n",
    "with open('windsor_housing.csv') as f:\n",
    "    raw = csv.reader(f)\n",
    "    # Drop the very first line as it contains names for columns - not actual data.\n",
    "    next(raw)\n",
    "    # Read one row at a time. Append one to each row\n",
    "    for row in raw:\n",
    "        ones = [1.0]\n",
    "        for r in row:\n",
    "            ones.append(float(r))\n",
    "        # Append the row to data \n",
    "        data.append(ones)\n",
    "data = np.array(data)\n",
    "data[:5,:]\n",
    "\n",
    "\n",
    "# First 5 rows of raw data \n",
    "\n",
    "# array([[1.00e+00, 5.85e+03, 3.00e+00, 1.00e+00, 2.00e+00, 1.00e+00,\n",
    "#         0.00e+00, 1.00e+00, 0.00e+00, 0.00e+00, 1.00e+00, 0.00e+00,\n",
    "#         4.20e+04],\n",
    "#        [1.00e+00, 4.00e+03, 2.00e+00, 1.00e+00, 1.00e+00, 1.00e+00,\n",
    "#         0.00e+00, 0.00e+00, 0.00e+00, 0.00e+00, 0.00e+00, 0.00e+00,\n",
    "#         3.85e+04],\n",
    "#        [1.00e+00, 3.06e+03, 3.00e+00, 1.00e+00, 1.00e+00, 1.00e+00,\n",
    "#         0.00e+00, 0.00e+00, 0.00e+00, 0.00e+00, 0.00e+00, 0.00e+00,\n",
    "#         4.95e+04],\n",
    "#        [1.00e+00, 6.65e+03, 3.00e+00, 1.00e+00, 2.00e+00, 1.00e+00,\n",
    "#         1.00e+00, 0.00e+00, 0.00e+00, 0.00e+00, 0.00e+00, 0.00e+00,\n",
    "#         6.05e+04],\n",
    "#        [1.00e+00, 6.36e+03, 2.00e+00, 1.00e+00, 1.00e+00, 1.00e+00,\n",
    "#         0.00e+00, 0.00e+00, 0.00e+00, 0.00e+00, 0.00e+00, 0.00e+00,\n",
    "#         6.10e+04]])"
   ]
  },
  {
   "cell_type": "markdown",
   "metadata": {},
   "source": [
    "## Step 2: Perform a 80/20 test train Split\n",
    "\n",
    "Explore NumPy's official documentation to manually split a dataset using `numpy.random.shuffle()`,  `numpy.random.permutations()` or using simple resampling method. \n",
    "* Perform a **RANDOM** 80/20 split on data using a method of your choice , in NumPy using one of the methods above. \n",
    "* Create x_test, y_test, x_train and y_train arrays from the split data.\n",
    "* Inspect the contents to see if the split performed as expected. "
   ]
  },
  {
   "cell_type": "code",
   "execution_count": 63,
   "metadata": {},
   "outputs": [],
   "source": [
    "# Your code here \n",
    "np.random.shuffle(data)\n",
    "id1=data.shape[0]//5\n",
    "id2=data.shape[0]-id1\n",
    "# Split results\n",
    "train=data[:id2]\n",
    "test=data[id2:]\n",
    "x_train = train[:,:-1]\n",
    "y_train = train[:,-1]\n",
    "x_test = test[:,:-1]\n",
    "y_test = test[:,-1]\n",
    "#print(id1, id2, id1+id2,data.shape[0])\n",
    "# Raw data Shape:  (546, 13)\n",
    "# Train/Test Split: (437, 13) (109, 13)\n",
    "# x_train, y_train, x_test, y_test: (437, 12) (437,) (109, 12) (109,)"
   ]
  },
  {
   "cell_type": "code",
   "execution_count": 64,
   "metadata": {},
   "outputs": [
    {
     "name": "stdout",
     "output_type": "stream",
     "text": [
      "[[1.000e+00 7.500e+03 4.000e+00 ... 1.000e+00 3.000e+00 1.000e+00]\n",
      " [1.000e+00 1.024e+04 2.000e+00 ... 1.000e+00 2.000e+00 1.000e+00]\n",
      " [1.000e+00 3.150e+03 3.000e+00 ... 1.000e+00 0.000e+00 0.000e+00]\n",
      " ...\n",
      " [1.000e+00 3.000e+03 3.000e+00 ... 0.000e+00 0.000e+00 0.000e+00]\n",
      " [1.000e+00 6.360e+03 3.000e+00 ... 0.000e+00 0.000e+00 1.000e+00]\n",
      " [1.000e+00 3.650e+03 3.000e+00 ... 0.000e+00 0.000e+00 0.000e+00]] [174500.  68000.  78000.  52500. 190000.  78900.  64000.  52500.  60000.\n",
      "  40000. 133000.  44500. 120000.  67000.  92500.  82000.  47500.  60000.\n",
      " 108000.  44500.  46000.  35500.  39000.  50000.  87500.  65000.  62000.\n",
      "  45000. 145000. 141000. 100500.  47000.  75000.  51000.  41000.  51900.\n",
      "  50000.  30000. 127000.  64000.  60500.  51000.  68100.  52000.  95000.\n",
      "  77000.  35000.  25245.  99000.  49000.  27000.  82900.  62900.  35000.\n",
      "  66000.  63000.  65000.  42000.  50000.  44000.  67000.  88500.  49000.\n",
      "  63000.  58550.  91500.  91700.  49000.  27000.  48000.  80000.  48000.\n",
      "  65000.  75000.  67000. 132000.  43000.  52000.  98500.  75000.  72000.\n",
      " 122000.  43000.  95000.  55500.  83000.  53900.  62000.  55000.  69900.\n",
      "  47900.  33000.  74700.  73500.  71000.  86000.  92000.  47000.  66500.\n",
      "  79000.  70000.  58500.  90000.  86000.  68000.  38000.  45000.  55000.\n",
      "  53000.  30000.  56000.  52000. 175000.  58000.  66000. 117000.  83900.\n",
      "  54000.  79000.  83800. 105000.  68500.  25000.  60000.  80750.  72500.\n",
      "  59000.  60000.  69900.  52500.  65900.  42000.  54000.  60000.  61000.\n",
      "  32500.  97000.  46000.  62000.  50000.  56000.  82000.  71500.  50000.\n",
      " 120000.  70000. 104900.  59900. 101000.  87250. 138300. 122500.  32000.\n",
      "  25000.  90000.  49500. 140000.  48000. 115442.  70000.  59500. 100000.\n",
      "  83900. 106000.  30500.  36000.  78000.  26500.  65000.  89000. 105000.\n",
      "  40500.  50000.  60000.  67000.  42000.  85000.  70000.  70000.  78000.\n",
      "  61700.  54000.  40500.  54000.  42500.  35000.  49000.  53900.  45000.\n",
      "  57000.  74500. 113000.  86900.  31900.  66000. 112000.  69000.  50500.\n",
      "  41000.  36000. 108000. 106000.  74900.  55000.  65500.  41000.  80000.\n",
      " 103500. 126500.  47600.  32500.  75000.  34000. 128000.  68500.  85000.\n",
      "  89000.  48500.  60000.  51000.  47000.  59900.  85000.  87000.  58000.\n",
      " 110000. 102000.  43000.  88000.  57250.  61500.  75500.  61000. 106500.\n",
      "  38000.  25000.  82000.  70000.  52900.  73000.  46500.  93000.  92500.\n",
      "  39000.  42000.  58500.  75000.  34400.  82000.  70100. 106000.  55000.\n",
      "  77500.  54500.  47000.  38500.  35500.  38000.  83000.  40000.  79500.\n",
      "  80000.  37000.  42300.  54000.  60000. 123500.  70000.  32500.  52000.\n",
      "  83000.  72000.  37000. 132000.  35000. 116000.  82500.  90000.  50000.\n",
      "  58900.  48500.  50000.  96000.  51000.  42000.  67000.  64500.  86000.\n",
      "  52000.  46000.  48000.  70000.  62600.  50000.  35000.  85000.  62000.\n",
      "  69000.  63900.  57500.  45000.  59500.  64000. 110000.  34000.  45000.\n",
      "  26000.  61000.  57000.  65000.  62000.  75000.  61000.  75000. 120000.\n",
      "  46200.  66000.  51500.  47500.  75000.  40750.  45000.  95000.  78500.\n",
      " 103000.  97000.  69000.  72000.  82000.  84000.  45000.  46500.  37200.\n",
      "  53000.  44000.  75000.  53000. 145000.  60000. 124000. 120000.  40500.\n",
      "  79000.  88000.  94700.  49500.  55500.  50000.  55000.  47000.  49000.\n",
      "  64900.  48900.  88500.  50000.  89500.  84000. 155000.  62900.  95500.\n",
      "  37900.  94500.  80000.  65500.  44000. 105000.  38000. 105000.  53500.\n",
      "  58000.  43000.  60000.  38000.  60000.  92000.  70000.  61100.  47000.\n",
      "  61000.  98000.  57500.  33500.  65000.  41000.  53900.  47000.  30000.\n",
      "  85000.  80000.  57000. 114900.  52000.  48000.  60000.  56000.  57500.\n",
      "  54000.  37000.  99000.  50000.  42000.  28000.  45000. 163000.  47000.\n",
      "  51500.  73500.  64000. 125000.  44100.  87000.  46000. 123500.  50000.\n",
      "  64500.  85000.  48000. 103000.  57250.  49500.  90000.  44500. 107000.\n",
      "  78000.  70500.  70000.  67900.  49900.  42000.  54800.  67000.  63500.\n",
      "  82000.  36000.  56000.  80000.  50000.] [[1.000e+00 4.410e+03 4.000e+00 ... 0.000e+00 2.000e+00 0.000e+00]\n",
      " [1.000e+00 6.420e+03 3.000e+00 ... 1.000e+00 0.000e+00 1.000e+00]\n",
      " [1.000e+00 4.040e+03 2.000e+00 ... 0.000e+00 1.000e+00 0.000e+00]\n",
      " ...\n",
      " [1.000e+00 4.992e+03 3.000e+00 ... 0.000e+00 2.000e+00 0.000e+00]\n",
      " [1.000e+00 7.800e+03 3.000e+00 ... 1.000e+00 2.000e+00 1.000e+00]\n",
      " [1.000e+00 1.050e+04 3.000e+00 ... 1.000e+00 1.000e+00 1.000e+00]] [ 71000.  85000.  58500.  94000.  89900.  42900.  43000.  73000.  49000.\n",
      "  55000.  44555.  53000. 120900.  66000.  95000.  34000.  76900.  48000.\n",
      "  64900.  80000.  68000.  44900.  86900.  55000.  60000.  56000.  61000.\n",
      "  48500.  64000.  43500.  88500.  59500. 130000. 112500.  38000.  48000.\n",
      "  45000.  93000.  84900.  61500.  60500.  44700.  63900. 113750.  60000.\n",
      "  57000.  44000.  60000.  56000.  73000.  52500.  64500. 140000. 107500.\n",
      "  50000.  57000.  64500.  37900.  85000. 120000.  80000.  43000.  73000.\n",
      "  56000.  71900.  70800.  95000.  70000.  42000.  43000.  96500.  52900.\n",
      "  78500.  95000.  50000.  69500.  62900.  62500.  38000.  65000.  79500.\n",
      "  52000.  63900. 101000.  50000.  90000.  52000.  52000.  74500.  60000.\n",
      "  72000.  58000.  80000. 130000.  59000.  74500. 118500.  70000.  69000.\n",
      "  93000.  35000. 175000.  87000.  60000.  53000. 114000.  58000.  76000.\n",
      "  94500.]\n"
     ]
    }
   ],
   "source": [
    "print(x_train, y_train, x_test, y_test)"
   ]
  },
  {
   "cell_type": "code",
   "execution_count": 58,
   "metadata": {},
   "outputs": [
    {
     "data": {
      "text/plain": [
       "(546, 13)"
      ]
     },
     "execution_count": 58,
     "metadata": {},
     "output_type": "execute_result"
    }
   ],
   "source": [
    "data.shape"
   ]
  },
  {
   "cell_type": "code",
   "execution_count": 59,
   "metadata": {},
   "outputs": [
    {
     "data": {
      "text/plain": [
       "(437, 13)"
      ]
     },
     "execution_count": 59,
     "metadata": {},
     "output_type": "execute_result"
    }
   ],
   "source": [
    "train.shape"
   ]
  },
  {
   "cell_type": "code",
   "execution_count": 60,
   "metadata": {},
   "outputs": [
    {
     "data": {
      "text/plain": [
       "(109, 13)"
      ]
     },
     "execution_count": 60,
     "metadata": {},
     "output_type": "execute_result"
    }
   ],
   "source": [
    "test.shape"
   ]
  },
  {
   "cell_type": "markdown",
   "metadata": {},
   "source": [
    "## Step 3: Calculate the `beta` \n",
    "\n",
    "With our X and y in place, We can now compute our beta values with x_train and y_train as:\n",
    "#### $\\beta$ = (x_train<sup>T</sup> . x_train)<sup>-1</sup> . x_train<sup>T</sup> . y_train \n",
    "\n",
    "* Using numpy operations (transpose, inverse) that we saw earlier, compute the above equation in steps.\n",
    "* Print your beta values"
   ]
  },
  {
   "cell_type": "code",
   "execution_count": 5,
   "metadata": {},
   "outputs": [
    {
     "name": "stdout",
     "output_type": "stream",
     "text": [
      "[7.13503312e+03 3.14678249e+00 3.28225971e+02 1.28839251e+04\n",
      " 6.68332755e+03 3.44682885e+03 3.19440776e+03 5.07824499e+03\n",
      " 1.32822228e+04 1.10098716e+04 2.88253206e+03 9.16916600e+03]\n"
     ]
    }
   ],
   "source": [
    "# Your code here \n",
    "\n",
    "\n",
    "\n",
    "# Calculated beta values\n",
    "\n",
    "# [-3.07118956e+03  2.13543921e+00  4.04283395e+03  1.33559881e+04\n",
    "#   5.75279185e+03  7.82810082e+03  3.73584043e+03  6.51098935e+03\n",
    "#   1.28802060e+04  1.09853850e+04  6.14947126e+03  1.05813305e+04]"
   ]
  },
  {
   "cell_type": "markdown",
   "metadata": {},
   "source": [
    "## Step 4: Make Predictions\n",
    "Great , we now have a set of coefficients that describe the linear mappings between X and y. We can now use the calculated beta values  with the test datasets that we left out to calculate y predictions. \n",
    "For this we need to perform the following tasks:"
   ]
  },
  {
   "cell_type": "markdown",
   "metadata": {},
   "source": [
    "Now we shall all features in each row in turn and multiply it with the beta computed above. The result will give a prediction for each row which we can append to a new array of predictions.\n",
    "\n",
    "#### $\\hat{y}$ = x.$\\beta$ = $\\beta$<sub>0</sub> + $\\beta$<sub>1</sub> . x<sub>1</sub> + $\\beta$<sub>2</sub> . x<sub>2</sub> + .. + $\\beta$<sub>m</sub> . x<sub>m</sub>\n",
    "\n",
    "\n",
    "* Create new empty list (y_pred) for saving predictions.\n",
    "* For each row of x_test, take the dot product of the row with beta to calculate the prediction for that row.\n",
    "* Append the predictions to y_pred.\n",
    "* Print the new set of predictions."
   ]
  },
  {
   "cell_type": "code",
   "execution_count": 3,
   "metadata": {},
   "outputs": [],
   "source": [
    "# Your code here "
   ]
  },
  {
   "cell_type": "markdown",
   "metadata": {},
   "source": [
    "## Step 5: Evaluate Model \n",
    "\n",
    "### Visualize Actual vs. Predicted\n",
    "This is exciting, so now our model can use the beta value to predict the price of houses given the input features. Let's plot these predictions against the actual values in y_test to see how much our model deviates. "
   ]
  },
  {
   "cell_type": "code",
   "execution_count": 5,
   "metadata": {},
   "outputs": [],
   "source": [
    "# Plot predicted and actual values as line plots\n"
   ]
  },
  {
   "cell_type": "markdown",
   "metadata": {},
   "source": [
    "![](diff.png)"
   ]
  },
  {
   "cell_type": "markdown",
   "metadata": {},
   "source": [
    "This doesn't look so bad, does it ? Our model, although isn't perfect at this stage, is making a good attempt to predict house prices although a few prediction seem a bit out. There could a number of reasons for this. Let's try to dig a bit deeper to check model's predictive abilities by comparing these prediction with actual values of y_test individually. That will help us calculate the RMSE value (Root Mean Squared Error) for our model. \n",
    "### Root Mean Squared Error\n",
    "Here is the formula for this again. \n",
    "\n",
    "![](rmse.jpg)\n"
   ]
  },
  {
   "cell_type": "markdown",
   "metadata": {},
   "source": [
    "* Initialize an empty array `err`.\n",
    "* for each row in y_test and y_pred, take the squared difference and append error for each row in err array. \n",
    "* Calculate RMSE from `err` using the formula shown above. "
   ]
  },
  {
   "cell_type": "code",
   "execution_count": 7,
   "metadata": {},
   "outputs": [],
   "source": [
    "# Calculate RMSE\n",
    "\n",
    "# Due to random split, your answers may vary \n",
    "\n",
    "# RMSE = 16401.913562758735"
   ]
  },
  {
   "cell_type": "markdown",
   "metadata": {},
   "source": [
    "### Normalized Root Mean Squared Error\n",
    "The above error is clearly in terms of the dependant variable i.e. the final house price. We can also use a normlized mean squared error in case of multiple regression which can be calculated from RMSE using following formula:\n",
    "\n",
    "* Calculate normalized Root Mean Squared Error"
   ]
  },
  {
   "cell_type": "markdown",
   "metadata": {},
   "source": [
    "<img src=\"nrmse.png\" width=300>"
   ]
  },
  {
   "cell_type": "code",
   "execution_count": 11,
   "metadata": {},
   "outputs": [
    {
     "data": {
      "text/plain": [
       "0.09940553674399233"
      ]
     },
     "execution_count": 11,
     "metadata": {},
     "output_type": "execute_result"
    }
   ],
   "source": [
    "# Calculate NRMSE\n",
    "\n",
    "# Due to random split, your answers may vary \n",
    "\n",
    "# 0.09940553674399233"
   ]
  },
  {
   "cell_type": "markdown",
   "metadata": {},
   "source": [
    "SO there it is. A complete multiple regression analysis using nothing but numpy. Having good programming skills in numpy would allow to dig deeper into analytical algorithms in machine learning and deep learning. Using matrix multiplication techniques we saw here, we can easily build a whole neural network from scratch. "
   ]
  },
  {
   "cell_type": "markdown",
   "metadata": {},
   "source": [
    "## Level up - Optional \n",
    "\n",
    "* Calculated the R_squared and adjusted R_squared for above experiment. \n",
    "* Plot the residuals (similar to statsmodels) and comment on the variance and heteroscedascticity. \n",
    "* Run the experiment in statsmodels and compare the performance of both approaches in terms of computational cost."
   ]
  },
  {
   "cell_type": "markdown",
   "metadata": {},
   "source": [
    "## Summary\n",
    "\n",
    "So there we have it. A predictive model for predicting house prices in a given dataset. Remember this is a very naive implementation of regression modeling. The purpose here was to get an introduction to the applications of linear algebra into machine learning and predictive analysis. We still have a number of shortcomings in our modeling approach and we can further apply a number of data modeling techniques to improve this model. "
   ]
  }
 ],
 "metadata": {
  "kernelspec": {
   "display_name": "Python 3",
   "language": "python",
   "name": "python3"
  },
  "language_info": {
   "codemirror_mode": {
    "name": "ipython",
    "version": 3
   },
   "file_extension": ".py",
   "mimetype": "text/x-python",
   "name": "python",
   "nbconvert_exporter": "python",
   "pygments_lexer": "ipython3",
   "version": "3.6.6"
  }
 },
 "nbformat": 4,
 "nbformat_minor": 2
}
